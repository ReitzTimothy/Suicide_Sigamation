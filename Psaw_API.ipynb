{
 "cells": [
  {
   "cell_type": "code",
   "execution_count": 1,
   "metadata": {},
   "outputs": [],
   "source": [
    "#############################################################\n",
    "#Author: Timothy Reitz\n",
    "#Date last modify: 03/01/2021\n",
    "#Program Name: Reddit API for Submission and Comments\n",
    "#Algorithm:\n",
    "##############################################################\n",
    "import pandas as pd\n",
    "from psaw import PushshiftAPI\n",
    "import datetime as dt\n"
   ]
  },
  {
   "cell_type": "code",
   "execution_count": 2,
   "metadata": {},
   "outputs": [],
   "source": [
    "#Create a intence of a pushshift object and set begin and end date of wanted submissions and comments "
   ]
  },
  {
   "cell_type": "code",
   "execution_count": 3,
   "metadata": {},
   "outputs": [],
   "source": [
    "pd.set_option('max_colwidth',2000)\n",
    "pd.set_option('max_columns',200)\n",
    "\n",
    "Pushshift_API = PushshiftAPI()\n",
    "\n",
    "start_epoch=int(dt.datetime(2021, 1,1 ).timestamp())\n",
    "end_epoch=int(dt.datetime(2021, 4, 1).timestamp())\n"
   ]
  },
  {
   "cell_type": "code",
   "execution_count": 4,
   "metadata": {},
   "outputs": [],
   "source": [
    "# Grabbing the wanted Submissions and Comments"
   ]
  },
  {
   "cell_type": "code",
   "execution_count": 5,
   "metadata": {},
   "outputs": [],
   "source": [
    "Submissions = Pushshift_API.search_submissions(subreddit='SuicideWatch', after = start_epoch, before=end_epoch)\n",
    "\n",
    "Comments = Pushshift_API.search_comments(subreddit='SuicideWatch', after = start_epoch, before=end_epoch)"
   ]
  },
  {
   "cell_type": "code",
   "execution_count": 6,
   "metadata": {},
   "outputs": [],
   "source": [
    "#Saving the data as a dataframe "
   ]
  },
  {
   "cell_type": "code",
   "execution_count": 7,
   "metadata": {
    "pycharm": {
     "is_executing": true
    }
   },
   "outputs": [
    {
     "name": "stderr",
     "output_type": "stream",
     "text": [
      "c:\\users\\tim's pc\\appdata\\local\\programs\\python\\python36\\lib\\site-packages\\psaw\\PushshiftAPI.py:192: UserWarning: Got non 200 code 429\n",
      "  warnings.warn(\"Got non 200 code %s\" % response.status_code)\n",
      "c:\\users\\tim's pc\\appdata\\local\\programs\\python\\python36\\lib\\site-packages\\psaw\\PushshiftAPI.py:180: UserWarning: Unable to connect to pushshift.io. Retrying after backoff.\n",
      "  warnings.warn(\"Unable to connect to pushshift.io. Retrying after backoff.\")\n"
     ]
    }
   ],
   "source": [
    "pd_submissions = pd.DataFrame([submission.d_ for submission in Submissions])\n",
    "pd_comments = pd.DataFrame([comment.d_ for comment in Comments])"
   ]
  },
  {
   "cell_type": "code",
   "execution_count": 8,
   "metadata": {
    "pycharm": {
     "is_executing": true
    }
   },
   "outputs": [],
   "source": [
    "#Checking the columns to see what data we want.  "
   ]
  },
  {
   "cell_type": "code",
   "execution_count": 9,
   "metadata": {
    "pycharm": {
     "is_executing": true
    }
   },
   "outputs": [
    {
     "data": {
      "text/plain": [
       "Index(['all_awardings', 'associated_award', 'author',\n",
       "       'author_flair_background_color', 'author_flair_css_class',\n",
       "       'author_flair_richtext', 'author_flair_template_id',\n",
       "       'author_flair_text', 'author_flair_text_color', 'author_flair_type',\n",
       "       'author_fullname', 'author_patreon_flair', 'author_premium', 'awarders',\n",
       "       'body', 'collapsed_because_crowd_control', 'comment_type',\n",
       "       'created_utc', 'gildings', 'id', 'is_submitter', 'link_id', 'locked',\n",
       "       'no_follow', 'parent_id', 'permalink', 'retrieved_on', 'score',\n",
       "       'send_replies', 'stickied', 'subreddit', 'subreddit_id',\n",
       "       'top_awarded_type', 'total_awards_received', 'treatment_tags',\n",
       "       'created', 'author_cakeday', 'distinguished'],\n",
       "      dtype='object')"
      ]
     },
     "execution_count": 9,
     "metadata": {},
     "output_type": "execute_result"
    }
   ],
   "source": [
    "pd_comments.columns"
   ]
  },
  {
   "cell_type": "code",
   "execution_count": 10,
   "metadata": {
    "pycharm": {
     "is_executing": true
    }
   },
   "outputs": [
    {
     "data": {
      "text/plain": [
       "Index(['all_awardings', 'allow_live_comments', 'author',\n",
       "       'author_flair_css_class', 'author_flair_richtext', 'author_flair_text',\n",
       "       'author_flair_type', 'author_fullname', 'author_patreon_flair',\n",
       "       'author_premium', 'awarders', 'can_mod_post', 'contest_mode',\n",
       "       'created_utc', 'domain', 'full_link', 'gildings', 'id',\n",
       "       'is_crosspostable', 'is_meta', 'is_original_content',\n",
       "       'is_reddit_media_domain', 'is_robot_indexable', 'is_self', 'is_video',\n",
       "       'link_flair_background_color', 'link_flair_richtext',\n",
       "       'link_flair_text_color', 'link_flair_type', 'locked', 'media_only',\n",
       "       'no_follow', 'num_comments', 'num_crossposts', 'over_18',\n",
       "       'parent_whitelist_status', 'permalink', 'pinned', 'pwls',\n",
       "       'retrieved_on', 'score', 'selftext', 'send_replies', 'spoiler',\n",
       "       'stickied', 'subreddit', 'subreddit_id', 'subreddit_subscribers',\n",
       "       'subreddit_type', 'thumbnail', 'title', 'total_awards_received',\n",
       "       'treatment_tags', 'upvote_ratio', 'url', 'whitelist_status', 'wls',\n",
       "       'created', 'author_cakeday', 'author_flair_template_id',\n",
       "       'author_flair_text_color', 'post_hint', 'preview',\n",
       "       'removed_by_category', 'author_flair_background_color', 'edited',\n",
       "       'banned_by', 'gilded', 'link_flair_template_id', 'link_flair_text'],\n",
       "      dtype='object')"
      ]
     },
     "execution_count": 10,
     "metadata": {},
     "output_type": "execute_result"
    }
   ],
   "source": [
    "pd_submissions.columns"
   ]
  },
  {
   "cell_type": "code",
   "execution_count": 11,
   "metadata": {
    "pycharm": {
     "is_executing": true
    }
   },
   "outputs": [],
   "source": [
    "#Exracting the data the we want "
   ]
  },
  {
   "cell_type": "code",
   "execution_count": 12,
   "metadata": {
    "pycharm": {
     "is_executing": true
    }
   },
   "outputs": [],
   "source": [
    "wanted_submission = pd_submissions[['id','author','created_utc','score','num_comments','url','title','selftext']]\n",
    "wanted_comments = pd_comments[['id','author','created_utc','score','parent_id','body']]"
   ]
  },
  {
   "cell_type": "code",
   "execution_count": 13,
   "metadata": {
    "pycharm": {
     "is_executing": true
    }
   },
   "outputs": [],
   "source": [
    "#Converting UTC Date to local date time (EST)"
   ]
  },
  {
   "cell_type": "code",
   "execution_count": 14,
   "metadata": {
    "pycharm": {
     "is_executing": true
    }
   },
   "outputs": [],
   "source": [
    "utc_date=[]\n",
    "converted_date=[]\n",
    "for submission in wanted_submission['created_utc']:\n",
    "    utc_date.append(submission)\n",
    "    converted_date.append(dt.datetime.fromtimestamp(submission))\n",
    "    \n",
    "    \n",
    "    "
   ]
  },
  {
   "cell_type": "code",
   "execution_count": 15,
   "metadata": {
    "pycharm": {
     "is_executing": true
    }
   },
   "outputs": [
    {
     "name": "stderr",
     "output_type": "stream",
     "text": [
      "c:\\users\\tim's pc\\appdata\\local\\programs\\python\\python36\\lib\\site-packages\\ipykernel_launcher.py:1: SettingWithCopyWarning: \n",
      "A value is trying to be set on a copy of a slice from a DataFrame.\n",
      "Try using .loc[row_indexer,col_indexer] = value instead\n",
      "\n",
      "See the caveats in the documentation: https://pandas.pydata.org/pandas-docs/stable/user_guide/indexing.html#returning-a-view-versus-a-copy\n",
      "  \"\"\"Entry point for launching an IPython kernel.\n"
     ]
    }
   ],
   "source": [
    "wanted_submission['created_utc'] = wanted_submission['created_utc'].replace(utc_date,converted_date)\n",
    "        \n",
    "    "
   ]
  },
  {
   "cell_type": "code",
   "execution_count": 16,
   "metadata": {
    "pycharm": {
     "is_executing": true
    }
   },
   "outputs": [],
   "source": [
    "utc_date=[]\n",
    "converted_date=[]\n",
    "for comments in wanted_comments['created_utc']:\n",
    "    utc_date.append(comments)\n",
    "    converted_date.append(dt.datetime.fromtimestamp(comments))"
   ]
  },
  {
   "cell_type": "code",
   "execution_count": 17,
   "metadata": {
    "pycharm": {
     "is_executing": true
    }
   },
   "outputs": [
    {
     "name": "stderr",
     "output_type": "stream",
     "text": [
      "c:\\users\\tim's pc\\appdata\\local\\programs\\python\\python36\\lib\\site-packages\\ipykernel_launcher.py:1: SettingWithCopyWarning: \n",
      "A value is trying to be set on a copy of a slice from a DataFrame.\n",
      "Try using .loc[row_indexer,col_indexer] = value instead\n",
      "\n",
      "See the caveats in the documentation: https://pandas.pydata.org/pandas-docs/stable/user_guide/indexing.html#returning-a-view-versus-a-copy\n",
      "  \"\"\"Entry point for launching an IPython kernel.\n"
     ]
    }
   ],
   "source": [
    "wanted_comments['created_utc'] = wanted_comments['created_utc'].replace(utc_date,converted_date)"
   ]
  },
  {
   "cell_type": "code",
   "execution_count": 18,
   "metadata": {
    "pycharm": {
     "is_executing": true
    }
   },
   "outputs": [
    {
     "name": "stderr",
     "output_type": "stream",
     "text": [
      "c:\\users\\tim's pc\\appdata\\local\\programs\\python\\python36\\lib\\site-packages\\xlsxwriter\\worksheet.py:943: UserWarning: Ignoring URL 'http://imgur.com/a/y1mAtwp\n",
      "\n",
      "I%20say%20that%20I%20want%20to%20die.%20I%20really%20think%20I%20do.%20But%20then%20I%20find%20myself%20standing%20on%20top%20of%20a%20cliff.%20A%20sure%20way%20out.%20If%20I%20just%20leaned%20forward,%20I%20would%20die.%20So%20why%20don't%20I???\n",
      "\n",
      "The%20excuses%20I%20tell%20myself%20are%20that%20I'm%20afraid%20of%20messing%20up,%20or%20I%20don't%20want%20to%20traumatize%20the%20people%20down%20below.%20But%20I%20know%20that%20isn't%20it.%20I%20made%20up%20those%20reasons%20after%20deciding%20not%20to%20jump.\n",
      "\n",
      "Maybe%20it's%20just%20my%20survival%20instinct.%20I'm%20only%20human.%20Cutting%20my%20wrists%20is%20easier%20to%20commit%20to%20then%20jumping%20off%20a%20cliff.%20There's%20something%20inherently%20terrifying%20about%20doing%20the%20latter.\n",
      "\n",
      "But%20I%20have%20no%20way%20of%20knowing%20if%20that's%20it%20either.%20Maybe,%20for%20reasons%20I%20can't%20understand,%20I%20just%20don't%20actually%20want%20to%20die.%20Maybe%20a%20part%20of%20me%20that's%20larger%20than%20I%20want%20to%20admit%20really%20wants%20to%20stay%20alive.\n",
      "\n",
      "Of%20course%20most%20if%20not%20all%20of%20you%20would%20tell%20me%20that%20I%20don't%20want%20to%20die.%20That%20a%20part%20of%20me%20knows%20I'm%20wrong,%20or%20I'll%20get%20better.%20That%20I%20just%20have%20to%20wait%20it%20out.\n",
      "\n",
      "But%20I%20can't%20think%20of%20a%20single%20reason%20I%20shouldn't%20kill%20myself.\n",
      "\n",
      "I've%20been%20planning%20how%20I%20am%20going%20to%20do%20it%20though.%20In%20a%20way%20that's%20less%20scary%20than%20jumping.%20I%20failed%20cutting%20my%20wrists%20in%20the%20past%20but%20this%20time%20I'll%20MAKE%20it%20work.%20Once%20I'm%20back%20from%20vacation%20I'm%20gonna%203d%20print%20a%20copy%20of%20a%20key%20to%20the%20garage.%20I'll%20sneak%20in,%20grab%20either%20the%20machete%20or%20the%20katana,%20and%20I'll%20go%20at%20my%20wrists%20again.\n",
      "\n",
      "Before,%20I%20didn't%20go%20that%20deep.%20But%20this%20time%20I%20know%20I%20will.%20Because%20I%20won't%20be%20cutting,%20I'll%20be%20chopping.%20I'll%20go%20as%20far%20as%20I%20can%20I%20don't%20care%20if%20I%20chop%20my%20arm%20off.%20I'll%20try%20and%20get%20as%20many%20veins%20cut%20as%20I%20can.\n",
      "\n",
      "And%20I%20know%20this%20is%20something%20I%20can%20commit%20to.%20In%20the%20silence%20at%20night%20with%20plenty%20of%20time%20to%20prepare%20mentally.\n",
      "\n",
      "People%20tell%20me%20I%20won't%20actually%20kill%20myself.%20This%20is%20just%20going%20to%20strengthen%20my%20resolve.%20I%20NEED%20this.%20I%20need%20it.%20Every%20day%20all%20I%20can%20think%20about%20is%20how%20I%20hate%20being%20alive.%20I%20need%20to%20die%20I%20can't%20stand%20this.' with link or location/anchor > 2079 characters since it exceeds Excel's limit for URLS\n",
      "  (force_unicode(url), max_url))\n"
     ]
    }
   ],
   "source": [
    "wanted_submission.to_excel('Early2021_Submissions.xlsx',engine='xlsxwriter')\n",
    "wanted_comments.to_excel('Early2021_Comments.xlsx',engine='xlsxwriter')\n"
   ]
  }
 ],
 "metadata": {
  "kernelspec": {
   "display_name": "Python 3",
   "language": "python",
   "name": "python3"
  },
  "language_info": {
   "codemirror_mode": {
    "name": "ipython",
    "version": 3
   },
   "file_extension": ".py",
   "mimetype": "text/x-python",
   "name": "python",
   "nbconvert_exporter": "python",
   "pygments_lexer": "ipython3",
   "version": "3.6.4"
  }
 },
 "nbformat": 4,
 "nbformat_minor": 1
}